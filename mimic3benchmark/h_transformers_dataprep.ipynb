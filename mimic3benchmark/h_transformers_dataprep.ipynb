{
 "cells": [
  {
   "cell_type": "code",
   "execution_count": 1,
   "metadata": {},
   "outputs": [
    {
     "name": "stderr",
     "output_type": "stream",
     "text": [
      "/home/shan/miniconda3/envs/mimic3/lib/python3.7/site-packages/IPython/core/interactiveshell.py:3166: DtypeWarning: Columns (4,5) have mixed types.Specify dtype option on import or set low_memory=False.\n",
      "  interactivity=interactivity, compiler=compiler, result=result)\n"
     ]
    }
   ],
   "source": [
    "#read files\n",
    "import pandas as pd\n",
    "df = pd.read_csv('all_stay_spec_row_ids.csv', sep='\\t', encoding='utf-8')\n",
    "df_radi = pd.read_csv('all_stay_with_row_ids_final.csv', encoding='utf-8') \n",
    "note = pd.read_csv(\"NOTEEVENTS.csv\")"
   ]
  },
  {
   "cell_type": "code",
   "execution_count": 2,
   "metadata": {},
   "outputs": [],
   "source": [
    "#Loop through all the CSV per episode, calculate length of stay, eliminate time less than 24. Put in bucket. Then add into Json dict"
   ]
  },
  {
   "cell_type": "code",
   "execution_count": 6,
   "metadata": {},
   "outputs": [],
   "source": [
    "#function calculating time difference in days\n",
    "from datetime import datetime\n",
    "\n",
    "def time_diff (intime, outtime):\n",
    "    exout = datetime.strptime(outtime, \"%Y-%m-%d %H:%M:%S\")\n",
    "    exin = datetime.strptime(intime, \"%Y-%m-%d %H:%M:%S\")\n",
    "    difference = exout - exin \n",
    "    duration_in_s = difference.total_seconds() \n",
    "    return duration_in_s/86400"
   ]
  },
  {
   "cell_type": "code",
   "execution_count": 7,
   "metadata": {},
   "outputs": [],
   "source": [
    "#label: 3+ 3- 7+ 7-"
   ]
  },
  {
   "cell_type": "code",
   "execution_count": 8,
   "metadata": {},
   "outputs": [],
   "source": [
    "def label_gen(los_day):\n",
    "    if los_day < 3:\n",
    "        return {'3-':'Y','3+':'N','7-':'Y','7+':'N'}\n",
    "    elif los_day >= 3 and los_day <= 7:\n",
    "        return {'3-':'N','3+':'Y','7-':'Y','7+':'N'}\n",
    "    else:\n",
    "        return {'3-':'N','3+':'Y','7-':'N','7+':'Y'}"
   ]
  },
  {
   "cell_type": "code",
   "execution_count": null,
   "metadata": {},
   "outputs": [],
   "source": [
    "def remove_newline(review):\n",
    "    review = review.replace('&#039;', \"'\")\n",
    "    review = review.replace('\\n', ' <cr> ')\n",
    "    review = review.replace('\\r', ' <cr> ')\n",
    "    review = review.replace('\\t', ' ')\n",
    "    return review"
   ]
  },
  {
   "cell_type": "code",
   "execution_count": 10,
   "metadata": {},
   "outputs": [],
   "source": [
    "import ast\n",
    "from tqdm.contrib import tzip\n",
    "def time_and_text_extract(df):\n",
    "    re_dict = {}\n",
    "    len_d = [i for i in range(len(df))]\n",
    "    for i in tzip(zip(len_d, df.INTIME, df.OUTTIME)):\n",
    "        i, intime, outtime = i[0][0], i[0][1], i[0][2]\n",
    "        try:\n",
    "            los = time_diff(intime, outtime)\n",
    "        except:\n",
    "            print(intime,outtime)\n",
    "        if los>1:\n",
    "            label = label_gen(los)\n",
    "            ids = ast.literal_eval(df.row_ids_radi.iloc[i])\n",
    "            for id in ids:\n",
    "                text = remove_newline(note.loc[note['ROW_ID'] == id]['TEXT'].any())\n",
    "                re_dict[str(id)] = {'text':text, 'labels':label}\n",
    "    return re_dict"
   ]
  },
  {
   "cell_type": "code",
   "execution_count": 11,
   "metadata": {},
   "outputs": [
    {
     "data": {
      "application/vnd.jupyter.widget-view+json": {
       "model_id": "a37161b3f1e7408b945be99770700429",
       "version_major": 2,
       "version_minor": 0
      },
      "text/plain": [
       "0it [00:00, ?it/s]"
      ]
     },
     "metadata": {},
     "output_type": "display_data"
    },
    {
     "name": "stdout",
     "output_type": "stream",
     "text": [
      "2147-01-18 19:11:00 nan\n"
     ]
    }
   ],
   "source": [
    "radi_dict = time_and_text_extract(df_radi)"
   ]
  },
  {
   "cell_type": "code",
   "execution_count": null,
   "metadata": {},
   "outputs": [
    {
     "data": {
      "text/plain": [
       "243493"
      ]
     },
     "execution_count": 11,
     "metadata": {},
     "output_type": "execute_result"
    }
   ],
   "source": [
    "len(radi_dict)"
   ]
  },
  {
   "cell_type": "code",
   "execution_count": 65,
   "metadata": {},
   "outputs": [
    {
     "data": {
      "text/plain": [
       "[813441, 813564, 812958, 813408, 813232, 813464, 813503, 813681, 813345]"
      ]
     },
     "execution_count": 65,
     "metadata": {},
     "output_type": "execute_result"
    }
   ],
   "source": [
    "from typing import List\n",
    "from sklearn.model_selection import train_test_split\n",
    "\n",
    "def split_data(ratio: List[int], data):\n",
    "### train, dev, test sum in softmax manner\n",
    "    s = pd.Series(data)\n",
    "    training_data, dev_test_data  = [i.to_dict() for i in train_test_split(s, train_size=ratio[0])]\n",
    "    dev_test_data = pd.Series(dev_test_data)\n",
    "    dev_data, test_data  = [i.to_dict() for i in train_test_split(dev_test_data, train_size=ratio[1]/(ratio[1]+ratio[2]))]    \n",
    "    return training_data, dev_data, test_data"
   ]
  },
  {
   "cell_type": "code",
   "execution_count": null,
   "metadata": {},
   "outputs": [],
   "source": [
    "training_data, dev_data, test_data = split_data([0.7,0.1,0.2], radi_dict)\n",
    "print(len(training_data), len(dev_data),len(test_data))"
   ]
  },
  {
   "cell_type": "code",
   "execution_count": 12,
   "metadata": {},
   "outputs": [],
   "source": [
    "import json\n",
    "\n",
    "with open('training.json', 'w', encoding ='utf8') as json_file:\n",
    "    json.dump(train, json_file, ensure_ascii = True)\n",
    "\n",
    "with open('dev.json', 'w', encoding ='utf8') as json_file:\n",
    "    json.dump(dev, json_file, ensure_ascii = True)\n",
    "\n",
    "with open('test.json', 'w', encoding ='utf8') as json_file:\n",
    "    json.dump(test, json_file, ensure_ascii = True)"
   ]
  }
 ],
 "metadata": {
  "interpreter": {
   "hash": "916dbcbb3f70747c44a77c7bcd40155683ae19c65e1c03b4aa3499c5328201f1"
  },
  "kernelspec": {
   "display_name": "Python 3.8.10 64-bit",
   "language": "python",
   "name": "python3"
  },
  "language_info": {
   "codemirror_mode": {
    "name": "ipython",
    "version": 3
   },
   "file_extension": ".py",
   "mimetype": "text/x-python",
   "name": "python",
   "nbconvert_exporter": "python",
   "pygments_lexer": "ipython3",
   "version": "3.7.10"
  },
  "orig_nbformat": 4
 },
 "nbformat": 4,
 "nbformat_minor": 2
}
